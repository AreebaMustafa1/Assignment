{
 "cells": [
  {
   "cell_type": "markdown",
   "id": "01e33074-e458-4f79-9296-7e2bb767c753",
   "metadata": {},
   "source": [
    "# Question no 1"
   ]
  },
  {
   "cell_type": "code",
   "execution_count": 2,
   "id": "a6d28cff-9112-4921-ab11-1094b1ab0e48",
   "metadata": {},
   "outputs": [
    {
     "name": "stdin",
     "output_type": "stream",
     "text": [
      "Enter a number:  2.5\n"
     ]
    },
    {
     "name": "stdout",
     "output_type": "stream",
     "text": [
      "The number is positive.\n"
     ]
    }
   ],
   "source": [
    "num = float(input(\"Enter a number: \"))\n",
    "\n",
    "if num > 0:\n",
    "    print(\"The number is positive.\")\n",
    "elif num < 0:\n",
    "    print(\"The number is negative.\")\n",
    "else:\n",
    "    print(\"The number is zero.\")\n"
   ]
  },
  {
   "cell_type": "markdown",
   "id": "c52f23c7-77ec-4f3e-a58f-f1552686ef41",
   "metadata": {},
   "source": [
    "# Question no 2"
   ]
  },
  {
   "cell_type": "code",
   "execution_count": 5,
   "id": "d0bd4557-ffef-4239-850c-45aaac873706",
   "metadata": {},
   "outputs": [
    {
     "name": "stdin",
     "output_type": "stream",
     "text": [
      "Enter a year:  2009\n"
     ]
    },
    {
     "name": "stdout",
     "output_type": "stream",
     "text": [
      "It is not a leap year.\n"
     ]
    }
   ],
   "source": [
    "year = int(input(\"Enter a year: \"))\n",
    "\n",
    "if (year % 4 == 0 and year % 100 != 0) or (year % 400 == 0):\n",
    "    print(\"It is a leap year.\")\n",
    "else:\n",
    "    print(\"It is not a leap year.\")\n"
   ]
  },
  {
   "cell_type": "markdown",
   "id": "355f1a81-264a-480f-8979-cc09eeea0c18",
   "metadata": {},
   "source": [
    "# Question no 3"
   ]
  },
  {
   "cell_type": "code",
   "execution_count": 9,
   "id": "2a36909a-2917-4360-bc25-aa6f853252d4",
   "metadata": {},
   "outputs": [
    {
     "name": "stdin",
     "output_type": "stream",
     "text": [
      "Enter first number:  2.5\n",
      "Enter operator (+, -, *, /):  *\n",
      "Enter second number:  8.9\n"
     ]
    },
    {
     "name": "stdout",
     "output_type": "stream",
     "text": [
      "Answer: 22.25\n"
     ]
    }
   ],
   "source": [
    "first = float(input(\"Enter first number: \"))\n",
    "sign = input(\"Enter operator (+, -, *, /): \")\n",
    "second = float(input(\"Enter second number: \"))\n",
    "\n",
    "if sign == '+':\n",
    "    print(\"Answer:\", first + second)\n",
    "elif sign == '-':\n",
    "    print(\"Answer:\", first - second)\n",
    "elif sign == '*':\n",
    "    print(\"Answer:\", first * second)\n",
    "elif sign == '/':\n",
    "    if second != 0:\n",
    "        print(\"Answer:\", first / second)\n",
    "    else:\n",
    "        print(\"You can't divide by zero.\")\n",
    "else:\n",
    "    print(\"Wrong operator.\")\n"
   ]
  },
  {
   "cell_type": "markdown",
   "id": "de383c70-218a-437e-91f5-f45f93854e60",
   "metadata": {},
   "source": [
    "# Question no 4"
   ]
  },
  {
   "cell_type": "code",
   "execution_count": 12,
   "id": "2ac5c379-33f9-455e-8d04-760b0df6d472",
   "metadata": {},
   "outputs": [
    {
     "name": "stdin",
     "output_type": "stream",
     "text": [
      "Enter student's marks:  58\n"
     ]
    },
    {
     "name": "stdout",
     "output_type": "stream",
     "text": [
      "Grade: C\n"
     ]
    }
   ],
   "source": [
    "marks = float(input(\"Enter student's marks: \"))\n",
    "\n",
    "if marks >= 85:\n",
    "    print(\"Grade: A\")\n",
    "elif marks >= 70:\n",
    "    print(\"Grade: B\")\n",
    "elif marks >= 50:\n",
    "    print(\"Grade: C\")\n",
    "else:\n",
    "    print(\"Grade: F\")\n"
   ]
  },
  {
   "cell_type": "markdown",
   "id": "4487395a-ca2d-411c-b937-196aed585e7b",
   "metadata": {},
   "source": [
    "# Question no 5"
   ]
  },
  {
   "cell_type": "code",
   "execution_count": 15,
   "id": "b53f4dc9-c7da-49b0-af0d-8859f95cc2a7",
   "metadata": {},
   "outputs": [
    {
     "name": "stdin",
     "output_type": "stream",
     "text": [
      "Enter your age:  28\n",
      "Enter your income:  200000\n"
     ]
    },
    {
     "name": "stdout",
     "output_type": "stream",
     "text": [
      "Eligible for membership.\n"
     ]
    }
   ],
   "source": [
    "age = int(input(\"Enter your age: \"))\n",
    "money = float(input(\"Enter your income: \"))\n",
    "\n",
    "if age >= 21 and money > 25000:\n",
    "    print(\"Eligible for membership.\")\n",
    "else:\n",
    "    print(\"Not eligible.\")\n"
   ]
  },
  {
   "cell_type": "markdown",
   "id": "2ff57795-7557-491d-acfa-28e822e86f8f",
   "metadata": {},
   "source": [
    "# Question no 6"
   ]
  },
  {
   "cell_type": "code",
   "execution_count": 18,
   "id": "4a73aee9-e198-42f4-b91d-17e21a36787f",
   "metadata": {},
   "outputs": [
    {
     "name": "stdin",
     "output_type": "stream",
     "text": [
      "Enter a number:  7\n"
     ]
    },
    {
     "name": "stdout",
     "output_type": "stream",
     "text": [
      "7\n"
     ]
    }
   ],
   "source": [
    "num = int(input(\"Enter a number: \"))\n",
    "\n",
    "if num % 3 == 0 and num % 5 == 0:\n",
    "    print(\"FizzBuzz\")\n",
    "elif num % 3 == 0:\n",
    "    print(\"Fizz\")\n",
    "elif num % 5 == 0:\n",
    "    print(\"Buzz\")\n",
    "else:\n",
    "    print(num)\n"
   ]
  },
  {
   "cell_type": "markdown",
   "id": "450674c3-27c0-4f99-b56b-d8f5854ea188",
   "metadata": {},
   "source": [
    "# Question no 7"
   ]
  },
  {
   "cell_type": "code",
   "execution_count": 21,
   "id": "7be8dcbc-fc34-4c3e-ba95-3acfefcc7148",
   "metadata": {},
   "outputs": [
    {
     "name": "stdin",
     "output_type": "stream",
     "text": [
      "Enter a character:  a\n"
     ]
    },
    {
     "name": "stdout",
     "output_type": "stream",
     "text": [
      "It is a vowel.\n"
     ]
    }
   ],
   "source": [
    "letter = input(\"Enter a character: \")\n",
    "\n",
    "if letter.isalpha():\n",
    "    if letter.lower() in 'aeiou':\n",
    "        print(\"It is a vowel.\")\n",
    "    else:\n",
    "        print(\"It is a consonant.\")\n",
    "elif letter.isdigit():\n",
    "    print(\"It is a digit.\")\n",
    "else:\n",
    "    print(\"It is a special character.\")\n"
   ]
  },
  {
   "cell_type": "markdown",
   "id": "8d65926a-c262-41c2-9597-c8a60469dd0a",
   "metadata": {},
   "source": [
    "# Question no 8|"
   ]
  },
  {
   "cell_type": "code",
   "execution_count": 24,
   "id": "022de10e-0b38-4284-ba82-7eb6b052b08d",
   "metadata": {},
   "outputs": [
    {
     "name": "stdin",
     "output_type": "stream",
     "text": [
      "Enter the day name:  friday\n"
     ]
    },
    {
     "name": "stdout",
     "output_type": "stream",
     "text": [
      "Time to work!\n"
     ]
    }
   ],
   "source": [
    "day = input(\"Enter the day name: \").lower()\n",
    "\n",
    "if day == \"saturday\" or day == \"sunday\":\n",
    "    print(\"Enjoy your weekend!\")\n",
    "else:\n",
    "    print(\"Time to work!\")\n"
   ]
  },
  {
   "cell_type": "markdown",
   "id": "440cce56-1c20-4ba6-a482-f869ab4a5a2e",
   "metadata": {},
   "source": [
    "# Question no 9"
   ]
  },
  {
   "cell_type": "code",
   "execution_count": null,
   "id": "8a4dac81-078a-4e67-8e42-5058e4bdbea4",
   "metadata": {},
   "outputs": [],
   "source": [
    "years = int(input(\"Enter years of service: \"))\n",
    "salary = float(input(\"Enter current salary: \"))\n",
    "\n",
    "if years >= 10:\n",
    "    bonus = salary * 0.20\n",
    "elif years >= 5:\n",
    "    bonus = salary * 0.10\n",
    "else:\n",
    "    bonus = salary * 0.05\n",
    "\n",
    "print(\"Bonus amount is:\", bonus)\n"
   ]
  },
  {
   "cell_type": "code",
   "execution_count": null,
   "id": "becd9f71-3f45-49b5-ba56-1a7fb2177210",
   "metadata": {},
   "outputs": [],
   "source": []
  }
 ],
 "metadata": {
  "kernelspec": {
   "display_name": "Python [conda env:base] *",
   "language": "python",
   "name": "conda-base-py"
  },
  "language_info": {
   "codemirror_mode": {
    "name": "ipython",
    "version": 3
   },
   "file_extension": ".py",
   "mimetype": "text/x-python",
   "name": "python",
   "nbconvert_exporter": "python",
   "pygments_lexer": "ipython3",
   "version": "3.12.7"
  }
 },
 "nbformat": 4,
 "nbformat_minor": 5
}
